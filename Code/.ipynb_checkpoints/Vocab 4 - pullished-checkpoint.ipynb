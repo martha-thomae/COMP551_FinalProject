{
 "cells": [
  {
   "cell_type": "code",
   "execution_count": 1,
   "metadata": {},
   "outputs": [],
   "source": [
    "import re\n",
    "import numpy as np\n",
    "import pandas as pd\n",
    "\n",
    "from collections import OrderedDict\n",
    "from operator import itemgetter "
   ]
  },
  {
   "cell_type": "code",
   "execution_count": 2,
   "metadata": {},
   "outputs": [],
   "source": [
    "def get_vocab(ifile):\n",
    "    dataset = pd.read_csv(ifile, header=None) #ISSUE: Detects first row as headings\n",
    "\n",
    "    dt_array = np.array(dataset, dtype=\"<U2000\") \n",
    "    #ISSUE 1: Without dtype all cells are saved a 'str' except for the empty ones (which are saved as 'float')\n",
    "    # --> Using dtype = 'str' is not a solution (it crops the string after 64 'unicode' characters)\n",
    "    # --> We can use as dtype a unicode with a large number ('str' = '<U64'), something like '<U1400'\n",
    "    # --> Or don't use a dtype but then cast each cell as str().\n",
    "    #ISSUE 2: We have html code here (e.g. 'web site:\\\\nAir Fleet<br />\\\\n  <br />\\\\n670 aircraft, including: <br />\\\\n47 Airbus A300-600s  17 Boeing DC10-30s')\n",
    "    text_array = dt_array[:,1:]\n",
    "\n",
    "    vocab = {}\n",
    "    for row in text_array:  \n",
    "        text_in_row = ' '.join(row)\n",
    "        text_in_row = ''.join(re.findall(\"[a-zA-Z0-9 '-]*\", text_in_row)).lower()\n",
    "        words_in_row = text_in_row.split()\n",
    "        #print(words_in_row, '\\n')\n",
    "        for word in words_in_row:\n",
    "            try:\n",
    "                vocab[word] = vocab[word] + 1\n",
    "            except:\n",
    "                vocab[word] = 1\n",
    "\n",
    "    ord_vocab = OrderedDict(sorted(vocab.items(), key = itemgetter(1), reverse = True))\n",
    "    \n",
    "    return ord_vocab"
   ]
  },
  {
   "cell_type": "code",
   "execution_count": 3,
   "metadata": {},
   "outputs": [],
   "source": [
    "def write_vocab_file(input_file, vocab_file, num_words=10000):\n",
    "    ord_vocab = get_vocab(input_file)\n",
    "    with open(vocab_file, 'w') as textfile:\n",
    "        for i, word in enumerate(ord_vocab):\n",
    "            if i < num_words:\n",
    "                textfile.write(word + \"\\t\" + str(i+1) + \"\\t\" + str(ord_vocab[word]) + \"\\n\")"
   ]
  },
  {
   "cell_type": "code",
   "execution_count": 4,
   "metadata": {},
   "outputs": [],
   "source": [
    "# Generate Vocabulary files for EACH dataset\n",
    "# write_vocab_file(input_file, vocab_file, num_words=10000)\n",
    "\n",
    "# AG News Dataset\n",
    "write_vocab_file(\"../Datasets/ag_news_csv/train.csv\", \"./Output/Vocabulary2/ag_news.txt\")"
   ]
  },
  {
   "cell_type": "code",
   "execution_count": null,
   "metadata": {},
   "outputs": [],
   "source": [
    "# Amazon Review (Full) Dataset\n",
    "write_vocab_file(\"../Datasets/amazon_review_full_csv/train.csv\", \"./Output/Vocabulary2/amazon_review_full.txt\")"
   ]
  },
  {
   "cell_type": "code",
   "execution_count": null,
   "metadata": {},
   "outputs": [],
   "source": [
    "# Amazon Review (Polarity) Dataset\n",
    "write_vocab_file(\"../Datasets/amazon_review_polarity_csv/train.csv\", \"./Output/Vocabulary2/amazon_review_polarity.txt\")"
   ]
  },
  {
   "cell_type": "code",
   "execution_count": 5,
   "metadata": {},
   "outputs": [],
   "source": [
    "# DBpedia Dataset\n",
    "write_vocab_file(\"../Datasets/dbpedia_csv/train.csv\", \"./Output/Vocabulary2/dbpedia.txt\")"
   ]
  },
  {
   "cell_type": "code",
   "execution_count": null,
   "metadata": {},
   "outputs": [],
   "source": [
    "# Sogou News Dataset\n",
    "write_vocab_file(\"../Datasets/sogou_news_csv/train.csv\", \"./Output/Vocabulary2/sogou_news.txt\")"
   ]
  },
  {
   "cell_type": "code",
   "execution_count": 6,
   "metadata": {},
   "outputs": [],
   "source": [
    "# Yahoo Answers Dataset\n",
    "write_vocab_file(\"../Datasets/yahoo_answers_csv/train.csv\", \"./Output/Vocabulary2/yahoo_answers.txt\")"
   ]
  }
 ],
 "metadata": {
  "kernelspec": {
   "display_name": "Python 3",
   "language": "python",
   "name": "python3"
  },
  "language_info": {
   "codemirror_mode": {
    "name": "ipython",
    "version": 3
   },
   "file_extension": ".py",
   "mimetype": "text/x-python",
   "name": "python",
   "nbconvert_exporter": "python",
   "pygments_lexer": "ipython3",
   "version": "3.4.3"
  }
 },
 "nbformat": 4,
 "nbformat_minor": 2
}
